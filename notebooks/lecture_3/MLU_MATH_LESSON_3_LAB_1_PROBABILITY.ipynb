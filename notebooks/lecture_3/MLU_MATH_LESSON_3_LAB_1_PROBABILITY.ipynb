{
 "cells": [
  {
   "cell_type": "markdown",
   "id": "0",
   "metadata": {},
   "source": [
    "<div style=\"background-image: linear-gradient(145deg, rgba(35, 47, 62, 1) 0%, rgba(0, 49, 129, 1) 40%, rgba(32, 116, 213, 1) 60%, rgba(244, 110, 197, 1) 85%, rgba(255, 173, 151, 1) 100%); padding: 1rem 2rem; width: 95%\"><img style=\"width: 60%;\" src=\"../../images/MLU_logo.png\"></div>\n",
    "\n",
    "# <a name=\"0\">MLU Mathematical Fundamentals for Machine Learning</a>\n",
    "# <a name=\"0\">Lecture 3: Probability and Statistics Fundamentals</a>\n",
    "## <a name=\"0\">Lab 3.1: Basic concepts of probability</a>\n",
    "\n",
    " 1. <a href=\"#1\">Probability Model</a> \n",
    " 2. <a href=\"#2\">Bayes Theorem</a> \n",
    "\n",
    "In this lab we'll construct the probability model for the sum of two dice rolls using the classical probability approach as well as observing how the probability of a repeated experiment approximates the theoretical one (frequentist approach).\n",
    "\n",
    "We'll also dive into Bayes theorem on conditional probability reusing the blood test example presented in the slides and expanding it to understand the effect of the test's sensitivity and specificity on the percentage of True Positive disease detections."
   ]
  },
  {
   "cell_type": "markdown",
   "id": "1",
   "metadata": {},
   "source": [
    "## <a name=\"1\">1. Probability Model</a>\n",
    "(<a href=\"#0\">Go to top</a>)\n",
    "\n",
    "### Classical Approach\n",
    "\n",
    "Recall the following definitions from the lecture.\n",
    "\n",
    "A **random phenomenon** has outcomes that we cannot predict with certainty. It’s non-deterministic.\n",
    "Typical examples of random phenomena are the outcome of rolling a die and tossing a coin.\n",
    "The changes in the stock market are also examples of random phenomena.\n",
    "\n",
    "**Probability** is a numerical measure of the likelihood that a specific event will occur.\n",
    "\n",
    "**Probability Theory** is the branch of mathematics that describes random behavior. We will use probability theory to create probability models that provide a mathematical description for the random phenomena we’re interested in studying.\n",
    "\n",
    "A **Probability Model** is a mathematical description of a random phenomenon. \n",
    "\n",
    "In the first part of this lab we will construct a Probability Model for the random phenomenon of tossing two dice.\n",
    "\n",
    "First we need to define the **Sample Space $S$**, which is the set of all possible individual ouctomes.\n",
    "\n",
    "<img style=\"width: 60%;\" src=\"../../images/two_dice.png\"></div>\n",
    "\n",
    "We can see in this case:\n",
    "\n",
    "$S={(1,1),(1,2),(1,3),(1,4),(1,5),(1,6),(2,1),(2,2),(2,3),(2,4),(2,5),(2,6),(3,1),(3,2),(3,3),(3,4),(3,5),(3,6),(4,1),(4,2),(4,3),(4,4),(4,5),(4,6),(5,1),(5,2),(5,3),(5,4),(5,5),(5,6),(6,1),(6,2),(6,3),(6,4),(6,5),(6,6)}$\n",
    "\n",
    "$S$ contains 36 elements.\n",
    "\n",
    "Let's now define an **Event $A$** (an event is any subset of the sample space $S$, therefore $A \\subseteq S$) as the set of outcomes where the sum of the two dice is $9$.\n",
    "\n",
    "Using the **Classical Probability** definition, we can compute the probability of the event $A$:\n",
    "\n",
    "$$P(A) = \\frac{number\\_of\\_ouctomes\\_in\\_A}{number\\_of\\_ouctomes\\_in\\_S} = \\frac{4}{36}=\\frac{1}{9}=0.111111$$\n",
    "\n",
    "We'll now use Python to generate the sample space and compute this probability with the classical approach.\n",
    "We will then show that the probability computed with the **Frequentist Approach** approximates the Classical Probability as the number of experiments increases."
   ]
  },
  {
   "cell_type": "code",
   "execution_count": null,
   "id": "2",
   "metadata": {
    "tags": []
   },
   "outputs": [],
   "source": [
    "# Import libraries\n",
    "import numpy as np\n",
    "import matplotlib.pyplot as plt\n",
    "import math\n",
    "from itertools import product\n",
    "import pandas as pd\n",
    "\n",
    "from IPython.display import Markdown, display\n",
    "\n",
    "# Set a seed for reproducibility\n",
    "np.random.seed(99)"
   ]
  },
  {
   "cell_type": "code",
   "execution_count": null,
   "id": "3",
   "metadata": {},
   "outputs": [],
   "source": [
    "dice = np.array([1, 2, 3, 4, 5, 6], int)\n",
    "\n",
    "def subsets(n: int):\n",
    "    \"\"\"Function that takes an integer parameter n representing the number\n",
    "       of dice to roll.\n",
    "       \n",
    "       It returns an array contining the sum of all the combinations\n",
    "       of outcomes of the n dices for each of the individual outcomes\n",
    "       in the sampla space.\n",
    "       \n",
    "       It also prints a tuple for ech outcome with the sum of the\n",
    "       values next to it.\n",
    "    \"\"\"\n",
    "    \n",
    "    s = np.empty(0, int)\n",
    "    \n",
    "    for roll in product(dice, repeat=n):\n",
    "        dice_sum = int(math.fsum(roll))\n",
    "        print(roll, dice_sum)\n",
    "        s = np.append(s, dice_sum)\n",
    "        \n",
    "    return s            "
   ]
  },
  {
   "cell_type": "code",
   "execution_count": null,
   "id": "4",
   "metadata": {},
   "outputs": [],
   "source": [
    "# Calling the susbsets function to roll 2 dice\n",
    "rolls=subsets(2)"
   ]
  },
  {
   "cell_type": "markdown",
   "id": "5",
   "metadata": {},
   "source": [
    "The <code>subset</code> function print all the individual outcomes of the sample space and next to each ouctome the corresponding sum.\n",
    "We can see that we obtain a sum of $9$ in $4$ outcomes out of $36$. These ouctomes are: $(3,6),(4,5),(5,4),(6,3).$\n",
    "\n",
    "The output returned by the function is stored in the <code>rolls</code> array, which we can print below."
   ]
  },
  {
   "cell_type": "code",
   "execution_count": null,
   "id": "6",
   "metadata": {},
   "outputs": [],
   "source": [
    "rolls"
   ]
  },
  {
   "cell_type": "markdown",
   "id": "7",
   "metadata": {},
   "source": [
    "The length of the array <code>rolls</code> is the cardinality of the sample space $S$ and we can see below it's $36$."
   ]
  },
  {
   "cell_type": "code",
   "execution_count": null,
   "id": "8",
   "metadata": {},
   "outputs": [],
   "source": [
    "print(f\"The cardinality of the sample space is: {len(rolls)}\")"
   ]
  },
  {
   "cell_type": "markdown",
   "id": "9",
   "metadata": {},
   "source": [
    "We now construct a pandas dataframe with the following columns:\n",
    "* $dice\\_sum$, containing the unique values of the sum of $2$ dice, these are the integer numbers ${2,3,4,5,6,7,8,9,10,11,12}$\n",
    "* $frequency$, containing the number of occurrencens of each unique value. We have seen, for example, the frequency of $dice\\_sum=4$ is $9$. "
   ]
  },
  {
   "cell_type": "code",
   "execution_count": null,
   "id": "10",
   "metadata": {},
   "outputs": [],
   "source": [
    "unique, frequency = np.unique(rolls, \n",
    "                              return_counts = True)\n",
    "\n",
    "df = pd.DataFrame({'dice_sum':unique.astype(int), 'frequency':frequency})\n",
    "\n",
    "df"
   ]
  },
  {
   "cell_type": "markdown",
   "id": "11",
   "metadata": {},
   "source": [
    "Let's add another series to this dataframe which represents the *probability* of each of the $dice\\_sum$ values, obtained using the *Classical Approach*."
   ]
  },
  {
   "cell_type": "code",
   "execution_count": null,
   "id": "12",
   "metadata": {},
   "outputs": [],
   "source": [
    "df['probability']=df['frequency']/sum(frequency)\n",
    "df"
   ]
  },
  {
   "cell_type": "markdown",
   "id": "13",
   "metadata": {},
   "source": [
    "We can verify that each probability is between $0$ and $1$ and also that the sum of the probabilities over all the events that partition the sample space is $1$."
   ]
  },
  {
   "cell_type": "code",
   "execution_count": null,
   "id": "14",
   "metadata": {},
   "outputs": [],
   "source": [
    "df['probability'].sum()"
   ]
  },
  {
   "cell_type": "markdown",
   "id": "15",
   "metadata": {},
   "source": [
    "We can filter the dataframe for the value $dice\\_sum=9$ and obtain the associated frequency and probability, confirming the values of $4$ and $0.111111$ respectively, previously obtained by counting the individual outcomes corresponding to the event: \"the sum of the two dice is $9$\"."
   ]
  },
  {
   "cell_type": "code",
   "execution_count": null,
   "id": "16",
   "metadata": {},
   "outputs": [],
   "source": [
    "df[df['dice_sum']==9]"
   ]
  },
  {
   "cell_type": "markdown",
   "id": "17",
   "metadata": {},
   "source": [
    "### Frequentist Approach\n",
    "\n",
    "The probability of an event $A$ may also be interpreted as the relative frequency of A over a long series of experiments (**Frequentist Approach**).\n",
    "\n",
    "$$P(A) = \\frac{number\\_of\\_times\\_A\\_occurs}{number\\_of\\_times\\_the\\_experiment\\_is\\_repeated} $$\n",
    "\n",
    "To empirically verify this second definition of probability, we can use the same event $A$ used in the classical probability example: \"the sum of the two dice is $9$\" and show that its probability using the frequentist approach tends to the theoretical value obtained with the classical probability model.\n",
    "\n",
    "According to the **Law of Large Numbers**, if an experiment is repeated again and again, the probability of an event obtained from the relative frequency approaches the actual theoretical probability."
   ]
  },
  {
   "cell_type": "code",
   "execution_count": null,
   "id": "18",
   "metadata": {},
   "outputs": [],
   "source": [
    "m = 1000 # number of times the experiment is repeated\n",
    "\n",
    "dice_rolls = []\n",
    "P_9 = []\n",
    "total_9s = 0\n",
    "\n",
    "for i in range(m):\n",
    "    die_1 = np.random.randint(1, 7)\n",
    "    die_2 = np.random.randint(1, 7)\n",
    "    dice_rolls.append(die_1 + die_2)\n",
    "    total_9s += ((die_1 + die_2)==9)\n",
    "    P_9.append(float(total_9s) / len(dice_rolls))\n",
    "\n",
    "plt.plot(list(range(m)), P_9)\n",
    "plt.axhline(0.111111, color=\"k\", ls=\"--\")\n",
    "plt.xlabel(\"Number of Dice Roll experiments\")\n",
    "plt.ylabel(\"$P(A)$ - the sum of two dice is $9$\")\n",
    "plt.title(f\"After {m} dice rolls, $P(A)$ is {P_9[-1]}\")\n",
    "plt.show()"
   ]
  },
  {
   "cell_type": "markdown",
   "id": "19",
   "metadata": {},
   "source": [
    "The solid curve corresponds to the $P(A)$ probability, and gives our estimated probability that the sum of the dice is $9$ as assessed after each group of experiments. The dashed black line gives the true underlying probability. As we get more data by conducting more experiments, the solid curve converges towards the true probability.\n",
    "\n",
    "Let's see how the frequentist probability approaches the classical probability as the number of experiments increases by comparing the charts with $10$, $50$, $100$ and $1000$ experiments.\n",
    "\n",
    "Since these experiments are generated at random, every execution may give you slighlty different results if you execute the cell below multiple times."
   ]
  },
  {
   "cell_type": "code",
   "execution_count": null,
   "id": "20",
   "metadata": {},
   "outputs": [],
   "source": [
    "plt.figure(figsize=(10, 6))\n",
    "\n",
    "m_values = [10, 50, 100, 1000]\n",
    "\n",
    "for j in range(len(m_values)):\n",
    "    m = m_values[j]\n",
    "    plt.subplot(2, 2, j + 1)\n",
    "    \n",
    "    dice_rolls = []\n",
    "    P_9 = []\n",
    "    total_9s = 0\n",
    "    \n",
    "    for i in range(m):\n",
    "        die_1 = np.random.randint(1, 7)\n",
    "        die_2 = np.random.randint(1, 7)\n",
    "        dice_rolls.append(die_1 + die_2)\n",
    "        total_9s += ((die_1 + die_2)==9)\n",
    "        P_9.append(float(total_9s) / len(dice_rolls))\n",
    "\n",
    "    plt.plot(list(range(m)), P_9)\n",
    "    plt.axhline(0.111111, color=\"k\", ls=\"--\")\n",
    "    plt.xlabel(\"Number of Dice Roll experiments\")\n",
    "    plt.ylabel(\"$P(A)$ - the sum of two dice is $9$\")\n",
    "    plt.title(f\"After {m} dice rolls, $P(A)$ is {P_9[-1]}\")\n",
    "\n",
    "plt.subplots_adjust(left=0.1,\n",
    "                    bottom=0.1, \n",
    "                    right=0.9, \n",
    "                    top=0.9, \n",
    "                    wspace=0.4, \n",
    "                    hspace=0.8)    \n",
    "plt.show()"
   ]
  },
  {
   "cell_type": "markdown",
   "id": "21",
   "metadata": {},
   "source": [
    "After $1000$ experiments, the frequentist probability converges quite closely to the classical probability value."
   ]
  },
  {
   "cell_type": "markdown",
   "id": "22",
   "metadata": {},
   "source": [
    "### Exercise\n",
    "\n",
    "<div style=\"align: left; border: 4px solid cornflowerblue; text-align: left; margin: auto; padding-left: 20px; padding-right: 20px; width: 65%\">\n",
    "        <img style=\"float: left; max-width: 80%; max-height:80%; margin: 5px;\" src=\"../../images/MLU_challenge.png\" alt=\"MLU challenge\" width=12% height=12%/>\n",
    "    <span style=\"padding: 20px; align: left;\">\n",
    "        <p><b>Try it yourself!</b></p>\n",
    "        <p><b>Exercise 1.</b> You may try to generate the frequentist probability chart for the probability of   obtaining Head with repeated tosses of a fair coin. Can you see this converging to the theoretical value of $0.5$?</p>\n",
    "    </span>\n",
    "</div>"
   ]
  },
  {
   "cell_type": "code",
   "execution_count": null,
   "id": "23",
   "metadata": {},
   "outputs": [],
   "source": [
    "###### YOUR CODE HERE ######\n",
    "\n",
    "\n",
    "\n",
    "\n",
    "\n",
    "\n",
    "###### END OF CODE ######"
   ]
  },
  {
   "cell_type": "markdown",
   "id": "24",
   "metadata": {},
   "source": [
    "<div style=\"align: left; border: 4px solid lightcoral; text-align: left; margin: auto; padding-left: 20px; padding-right: 20px; width: 65%\">\n",
    "        <img style=\"float: left; max-width: 100%; max-height:100%; margin: 15px;\" src=\"../../images/MLU_question.png\" alt=\"MLU solution\" width=12% height=12%/>\n",
    "    <span style=\"padding: 20px; align: left;\">\n",
    "        <p><b>Challenge Help</b></p>\n",
    "        <p>some suggestions</p>\n",
    "        <p>If you're stuck, remove the <code>#</code> before the <code>load</code> instruction in the next code cell to display sample solutions.</p>\n",
    "    </span>\n",
    "</div>"
   ]
  },
  {
   "cell_type": "code",
   "execution_count": null,
   "id": "25",
   "metadata": {},
   "outputs": [],
   "source": [
    "# %load solutions/lab31_ex1_solutions.txt"
   ]
  },
  {
   "cell_type": "markdown",
   "id": "26",
   "metadata": {},
   "source": [
    "## <a name=\"2\">2. Bayes Theorem</a>\n",
    "(<a href=\"#0\">Go to top</a>)\n",
    "\n",
    "### Bayes Theorem: Formulation\n",
    "\n",
    "Using the definition of conditional probabilities,\n",
    "we can derive the famous result called *Bayes' theorem*.\n",
    "By construction, we have that $P(A, B) = P(B\\mid A) P(A)$\n",
    "and $P(A, B) = P(A\\mid B) P(B)$.\n",
    "Combining both equations yields\n",
    "$P(B\\mid A) P(A) = P(A\\mid B) P(B)$ and hence\n",
    "\n",
    "$$P(A \\mid B) = \\frac{P(B\\mid A) P(A)}{P(B)}.$$\n",
    "\n",
    "\n",
    "\n",
    "\n",
    "\n",
    "\n",
    "This simple equation has profound implications because\n",
    "it allows us to reverse the order of conditioning.\n",
    "If we know how to estimate $P(B\\mid A)$, $P(A)$, and $P(B)$,\n",
    "then we can estimate $P(A\\mid B)$.\n",
    "We often find it easier to estimate one term directly\n",
    "but not the other and Bayes' theorem can come to the rescue here.\n",
    "For instance, if we know the prevalence of symptoms for a given disease,\n",
    "and the overall prevalences of the disease and symptoms, respectively,\n",
    "we can determine how likely someone is\n",
    "to have the disease based on their symptoms.\n",
    "In some cases we might not have direct access to $P(B)$,\n",
    "such as the prevalence of symptoms.\n",
    "In this case a simplified version of Bayes' theorem comes in handy:\n",
    "\n",
    "$$P(A \\mid B) \\propto P(B \\mid A) P(A).$$\n",
    "\n",
    "Since we know that $P(A \\mid B)$ must be normalized to $1$, i.e., $\\sum_a P(A=a \\mid B) = 1$,\n",
    "we can use it to compute\n",
    "\n",
    "$$P(A \\mid B) = \\frac{P(B \\mid A) P(A)}{\\sum_a P(B \\mid A=a) P(A = a)}.$$\n",
    "\n",
    "In Bayesian statistics, we think of an observer\n",
    "as possessing some (subjective) prior beliefs\n",
    "about the plausibility of the available hypotheses\n",
    "encoded in the *prior* $P(H)$,\n",
    "and a *likelihood function* that says how likely\n",
    "one is to observe any value of the collected evidence\n",
    "for each of the hypotheses in the class $P(E \\mid H)$.\n",
    "Bayes' theorem is then interpreted as telling us\n",
    "how to update the initial *prior* $P(H)$\n",
    "in light of the available evidence $E$\n",
    "to produce *posterior* beliefs\n",
    "$P(H \\mid E) = \\frac{P(E \\mid H) P(H)}{P(E)}$.\n",
    "Informally, this can be stated as\n",
    "\"posterior equals prior times likelihood, divided by the evidence\".\n",
    "Now, because the evidence $P(E)$ is the same for all hypotheses,\n",
    "we can get away with simply normalizing over the hypotheses.\n"
   ]
  },
  {
   "cell_type": "markdown",
   "id": "27",
   "metadata": {},
   "source": [
    "### Bayes Theorem: example\n",
    "\n",
    "Let's now look at the same example we saw in the slides. \n",
    "\n",
    "A common blood test indicates the presence of a disease 95% of the time when the disease is actually present in an individual. Joe's doctor draws some of Joe's blood, and performs the test on his drawn blood. The results indicate that the disease is present in Joe.\n",
    "Here's the information that Joe's doctor knows about the disease and the diagnostic blood test:\n",
    "* One-percent people have the disease. That is, if $D$ is the event that a randomly selected individual has the disease, then the probability of $D$ is $0.01$.\n",
    "* If H is the event that a randomly selected individual is disease-free, that is, healthy, then the probability of $H$ is $1$ minus the probability of $D$, which is $0.99$.\n",
    "* The **sensitivity** of the test is $0.95$. That is, if a person has the disease, then the probability that the diagnostic blood test comes back positive is $0.95$. This is the probability of testing positive $P$ given the disease $D$ is present.\n",
    "* The **specificity** of the test is $0.95$. That is, if a person is free of the disease, then the probability that the diagnostic test comes back negative is $0.95$. That is probability of testing negative $N$ given the patient is healthy $H$.\n",
    "\n",
    "Graphically this can be represented as:\n",
    "\n",
    "<img style=\"width: 50%;\" src=\"../../images/bayes_example.png\"></div>\n",
    "\n",
    "What is the positive predictive value of the test? That is, given that the blood test is positive for the disease, what is the probability that Joe actually has the disease?"
   ]
  },
  {
   "cell_type": "code",
   "execution_count": null,
   "id": "28",
   "metadata": {
    "tags": []
   },
   "outputs": [],
   "source": [
    "p_d = 0.01\n",
    "p_h = 0.99\n",
    "\n",
    "p_pos_given_d = 0.95\n",
    "p_neg_given_d = 0.05\n",
    "\n",
    "p_pos_given_h = 0.05\n",
    "p_neg_given_h = 0.95\n",
    "\n",
    "def get_p_d_given_pos(p_d, p_h, p_pos_given_d, p_pos_given_h):\n",
    "    p_d_given_pos = p_pos_given_d * p_d / (p_pos_given_d * p_d + p_pos_given_h * p_h)\n",
    "    return p_d_given_pos"
   ]
  },
  {
   "cell_type": "code",
   "execution_count": null,
   "id": "29",
   "metadata": {
    "tags": []
   },
   "outputs": [],
   "source": [
    "get_p_d_given_pos(p_d, p_h, p_pos_given_d, p_pos_given_h)"
   ]
  },
  {
   "cell_type": "markdown",
   "id": "30",
   "metadata": {},
   "source": [
    "As seen in the slides, using Bayes Theorem gives us:\n",
    "\n",
    "$$P(D \\mid P) = \\frac{P(P\\mid D) P(D)}{P(P\\mid D) P(D) + P(P\\mid H) P(H)} = \\frac{(0.95)(0.001)}{(0.95)(0.001)+(0.05)(0.99)} = 0.161$$\n",
    "\n",
    "What could we improve if we wanted to increase this probability? How can we improve our test in order to increase the precision of our detection? That is, how can we increase the probability of detecting the disease for people who actually carry such disease?\n",
    "\n",
    "Let's investigate how **$P(D\\mid P)$** changes as a function of **test sensitivity** and **test specificity** separately as they range from 90% to 99.9%."
   ]
  },
  {
   "cell_type": "code",
   "execution_count": null,
   "id": "31",
   "metadata": {
    "tags": []
   },
   "outputs": [],
   "source": [
    "p_d_given_pos = []\n",
    "\n",
    "sensitivity_range = np.arange(0.900, 0.999, 0.001)\n",
    "\n",
    "for sensitivity in sensitivity_range:\n",
    "    p_d_given_pos.append(get_p_d_given_pos(p_d, p_h, sensitivity, p_pos_given_h))    "
   ]
  },
  {
   "cell_type": "code",
   "execution_count": null,
   "id": "32",
   "metadata": {
    "tags": []
   },
   "outputs": [],
   "source": [
    "plt.plot(sensitivity_range, p_d_given_pos)\n",
    "plt.xlabel(\"Test Sensitivity\")\n",
    "plt.ylabel(\"$P(D|P)$\")\n",
    "plt.title(f\"$P(D|P)$ as a function of sensitivity\")\n",
    "plt.grid()\n",
    "plt.show()"
   ]
  },
  {
   "cell_type": "code",
   "execution_count": null,
   "id": "33",
   "metadata": {
    "tags": []
   },
   "outputs": [],
   "source": [
    "p_d_given_pos = []\n",
    "\n",
    "specificity_range = np.arange(0.900, 0.999, 0.001)\n",
    "\n",
    "for specificity in specificity_range:\n",
    "    p_d_given_pos.append(get_p_d_given_pos(p_d, p_h, p_pos_given_d, (1-specificity)))"
   ]
  },
  {
   "cell_type": "code",
   "execution_count": null,
   "id": "34",
   "metadata": {
    "tags": []
   },
   "outputs": [],
   "source": [
    "plt.plot(specificity_range, p_d_given_pos)\n",
    "plt.xlabel(\"Test Specificity\")\n",
    "plt.ylabel(\"$P(D|P)$\")\n",
    "plt.title(f\"$P(D|P)$ as a function of specificity\")\n",
    "plt.grid()\n",
    "plt.show()"
   ]
  },
  {
   "cell_type": "markdown",
   "id": "35",
   "metadata": {},
   "source": [
    "**Conclusion**: the two plots above show that increasing the sensitivity of the test doesn't yield in major improvements of $P(D\\mid P)$, wherease increasing the specificity of the test beyond the 96% mark does rapidly lead to an increase in $P(D\\mid P)$ (that is the test detects the disease in patients who are actually carrying it) and therefore that's the direction the research efforts should focus on."
   ]
  },
  {
   "cell_type": "markdown",
   "id": "36",
   "metadata": {
    "tags": []
   },
   "source": [
    "<div style=\"display: flex; align-items: center; justify-content: left; background-color:#330066; width:99%;\"> \n",
    "        <img style=\"float: left; max-width: 100%; max-height:100%; margin: 15px;\" src=\"../../images/MLU_robot.png\" alt=\"MLU robot\" width=\"100\" height=\"100\"/>\n",
    "    <span style=\"color: white; padding-left: 10px; align: left; margin: 15px;\">\n",
    "        <h3>Congratulations!</h3>\n",
    "        You have completed Lab 3.1: Basic concepts of probability of Lecture 3: Probability and Statistics Fundamentals of MLU Mathematical Fundamentals of Machine Learning.\n",
    "        <br/>\n",
    "    </span>\n",
    "</div>"
   ]
  },
  {
   "cell_type": "code",
   "execution_count": null,
   "id": "37",
   "metadata": {},
   "outputs": [],
   "source": []
  }
 ],
 "metadata": {
  "kernelspec": {
   "display_name": "conda_python3",
   "language": "python",
   "name": "conda_python3"
  },
  "language_info": {
   "codemirror_mode": {
    "name": "ipython",
    "version": 3
   },
   "file_extension": ".py",
   "mimetype": "text/x-python",
   "name": "python",
   "nbconvert_exporter": "python",
   "pygments_lexer": "ipython3",
   "version": "3.10.15"
  }
 },
 "nbformat": 4,
 "nbformat_minor": 5
}
