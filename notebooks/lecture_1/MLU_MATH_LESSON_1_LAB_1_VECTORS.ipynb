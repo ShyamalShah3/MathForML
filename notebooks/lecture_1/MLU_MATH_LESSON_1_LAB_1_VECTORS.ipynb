{
 "cells": [
  {
   "cell_type": "markdown",
   "id": "0",
   "metadata": {},
   "source": [
    "<div style=\"background-image: linear-gradient(145deg, rgba(35, 47, 62, 1) 0%, rgba(0, 49, 129, 1) 40%, rgba(32, 116, 213, 1) 60%, rgba(244, 110, 197, 1) 85%, rgba(255, 173, 151, 1) 100%); padding: 1rem 2rem; width: 95%\"><img style=\"width: 60%;\" src=\"../../images/MLU_logo.png\"></div>\n",
    "\n",
    "# <a name=\"0\">MLU Mathematical Fundamentals for Machine Learning</a>\n",
    "# <a name=\"0\">Lecture 1: Basic linear algebra</a>\n",
    "## <a name=\"0\">Lab 1.1: Vector operations</a>\n",
    "\n",
    " 1. <a href=\"#1\">NumPy arrays</a> \n",
    " 2. <a href=\"#2\">Vector addition</a> \n",
    " 3. <a href=\"#3\">Scalar multiplication</a> \n",
    " 4. <a href=\"#4\">Vector averages</a> \n",
    " \n",
    "At their core, all machine learning algorithms work on numerical data. Either data collected in a `.csv` file, or text, images, sounds... before being used to train the machine model of choice, all data needs to be preprocessed and somehow transformed into numerical values. This process is called **data vectorization**. These numerical values are organized into mathematical structures of *vectors* and *matrices* (and more generally, *tensors*), that  can be mathematically manipulated, just like scalars. \n",
    "\n",
    "We will highlight next the relevance of some vector operations: vector addition, vector subtraction and vector dot product, for machine learning. Examined from both an algebraic and a geometric perspective, these simple vector operations are at the basis of all machine learning models.\n",
    "\n",
    "From a coding perspective, we will explore basic vector and matrix manipulation using [NumPy](https://numpy.org/), a fundamental library for numerical computations in Python. `NumPy` is widely used in scientific computing and data analysis due to its powerful array operations and intuitive syntax. Later in the course we will introduce [Pandas](https://pandas.pydata.org/), a higher-level library that builds on `NumPy` to provide more specialized tools for data manipulation and analysis."
   ]
  },
  {
   "cell_type": "code",
   "execution_count": null,
   "id": "1",
   "metadata": {
    "tags": []
   },
   "outputs": [],
   "source": [
    "# Upgrade libraries\n",
    "!pip install -q --upgrade pip\n",
    "!pip install -q --upgrade scikit-learn"
   ]
  },
  {
   "cell_type": "code",
   "execution_count": null,
   "id": "2",
   "metadata": {
    "tags": []
   },
   "outputs": [],
   "source": [
    "%%capture\n",
    "# Import libraries\n",
    "import numpy as np\n",
    "import matplotlib.pyplot as plt\n",
    "from IPython.display import Markdown, display\n",
    "\n",
    "# Set a seed for reproducibility\n",
    "np.random.seed(99)\n",
    "\n",
    "%matplotlib inline"
   ]
  },
  {
   "cell_type": "markdown",
   "id": "3",
   "metadata": {},
   "source": [
    "## <a name=\"1\">1. NumPy arrays</a>\n",
    "(<a href=\"#0\">Go to top</a>)\n",
    "\n",
    "NumPy arrays are the fundamental data structure in the NumPy library. They are multi-dimensional objects, meaning they can hold data in various shapes and dimensions. They can be used to express vectors, matrices, and more generally, tensors.\n",
    "\n",
    "See here for the documentation of [numpy.array](https://numpy.org/doc/stable/reference/generated/numpy.array.html).\n",
    "\n",
    "Let's create a vector as a `Numpy` object:"
   ]
  },
  {
   "cell_type": "code",
   "execution_count": null,
   "id": "4",
   "metadata": {
    "tags": []
   },
   "outputs": [],
   "source": [
    "# Vector\n",
    "vector = np.array([1, 2, 3])\n",
    "print(\"Vector:\", vector)"
   ]
  },
  {
   "cell_type": "markdown",
   "id": "5",
   "metadata": {},
   "source": [
    "The dimension of a vector refers to the **number of elements** or components that the vector contains. In truth, when one says that a *vector has dimension n* what is really meant is that the vector is a member of an *n*-dimensional vector space. \n",
    "\n",
    "When expressed as a NumPy vector, this equals the number of elements in the array, or equivalently, the length of the array. Another way of finding the \"vector dimension\" is via the `shape` property that returns the number of items along each axis. \n",
    "\n",
    "In programming languages, vectors are said to be \"1-dimensional structures\", which refers to the number of axes it has. This means the number of indices needed to unequivocally identity an element of the object. As seen in the lecture, vectors can be fully expressed by one index. In NumPy, that fact is encoded in the `ndim` property. \n",
    "\n",
    "In NumPy, the dimension of the array is separate from the dimension of the vector objects contained within it."
   ]
  },
  {
   "cell_type": "code",
   "execution_count": null,
   "id": "6",
   "metadata": {
    "tags": []
   },
   "outputs": [],
   "source": [
    "print(f\"Vector {vector} has {len(vector)} elements.\\n\")\n",
    "print(f\"It's shape as NumPy array is {vector.shape}.\")\n",
    "print(f\"The number of indices is {vector.ndim}.\")"
   ]
  },
  {
   "cell_type": "markdown",
   "id": "7",
   "metadata": {},
   "source": [
    "You can select individual components of vectors. Remember that Python is a 0-based programming language. Therefore, the elements of a NumPy vector range from 0 to the vector length minus 1. "
   ]
  },
  {
   "cell_type": "code",
   "execution_count": null,
   "id": "8",
   "metadata": {
    "tags": []
   },
   "outputs": [],
   "source": [
    "# Select the second component\n",
    "vector[1]"
   ]
  },
  {
   "cell_type": "markdown",
   "id": "9",
   "metadata": {},
   "source": [
    "## <a name=\"2\">2. Vector Addition</a>\n",
    "(<a href=\"#0\">Go to top</a>)\n",
    "\n",
    "The sum of two vectors of same dimension is also a vector. Its coordinates can be obtained by element-wise addition of their components. \n",
    "\n",
    "Let's see how vector addition works for $\\mathbf{v}=[1, 0]$ and $\\mathbf{w} = [0, 1]$.\n"
   ]
  },
  {
   "cell_type": "code",
   "execution_count": null,
   "id": "10",
   "metadata": {
    "tags": []
   },
   "outputs": [],
   "source": [
    "# Vector definition\n",
    "v, w = np.array([1, 0]), np.array([0, 1])\n",
    "\n",
    "# Vector Addition\n",
    "print(f\"v = {v}\\nw = {w}\\n\\nv + w = {v+w}\\nw + v = {w+v}\")"
   ]
  },
  {
   "cell_type": "markdown",
   "id": "11",
   "metadata": {},
   "source": [
    "Only vectors of the same dimension, i.e. belonging to the same vector space, can be added. The result of adding the two vectors is a vector of the same dimension. Just like with real numbers, we also notice that the addition of two vectors is commutative. In fact all other properties of addition are also true: associative, additive identity, and distributive. \n",
    "\n",
    "#### Geometric interpretation\n",
    "\n",
    "Let's next examine the sum of two vectors from a geometrical perspective. Here, we plot the vectors $\\mathbf{v}$ and $\\mathbf{w}$, the sum $\\mathbf{v} + \\mathbf{w}$, and the sum $\\mathbf{w} + \\mathbf{v}$. "
   ]
  },
  {
   "cell_type": "code",
   "execution_count": null,
   "id": "12",
   "metadata": {
    "tags": []
   },
   "outputs": [],
   "source": [
    "def plot_v(listo, listv, listc, listl, v_min, v_max, width=0.05):\n",
    "    for o, v, c in zip(listo, listv, listc):\n",
    "        plt.quiver(o[0], o[1], v[0], v[1], units=\"xy\", scale=1, color=c, width=width)\n",
    "    plt.legend(listl)\n",
    "    plt.grid()\n",
    "    plt.xlim(v_min, v_max)\n",
    "    plt.ylim(v_min, v_max)\n",
    "    plt.gca().set_aspect(\"equal\", adjustable=\"box\")\n",
    "    plt.title(\"{}\".format(listl[-1]), fontsize=10)\n",
    "\n",
    "\n",
    "# Plot Vector Addition\n",
    "plt.figure(figsize=(20, 6))\n",
    "oo = np.array([0, 0])\n",
    "v_min, v_max = -1, 4\n",
    "plt.subplot(1, 4, 1)\n",
    "plot_v([oo], [v], [\"tab:red\"], [\"$v$\"], v_min, v_max)\n",
    "plt.subplot(1, 4, 2)\n",
    "plot_v([oo], [w], [\"tab:blue\"], [\"$w$\"], v_min, v_max)\n",
    "plt.subplot(1, 4, 3)\n",
    "plot_v(\n",
    "    [oo, v, oo],\n",
    "    [v, w, v + w],\n",
    "    [\"tab:red\", \"tab:blue\", \"tab:green\"],\n",
    "    [\"$v$\", \"$w$\", \"$v+w$\"],\n",
    "    v_min,\n",
    "    v_max,\n",
    ")\n",
    "plt.subplot(1, 4, 4)\n",
    "plot_v(\n",
    "    [oo, v, oo, oo, w],\n",
    "    [v, w, v + w, w, v],\n",
    "    [\"tab:red\", \"tab:blue\", \"tab:green\", \"tab:blue\", \"tab:red\"],\n",
    "    [\"$v$\", \"$w$\", \"$v + w = w + v$\"],\n",
    "    v_min,\n",
    "    v_max,\n",
    ")\n",
    "plt.show()\n",
    "plt.close()"
   ]
  },
  {
   "cell_type": "markdown",
   "id": "13",
   "metadata": {},
   "source": [
    "From a geometrical point of view, if we think of vectors components as instructions to 'move' along their direction, adding two vectors means executing directions in order. \n",
    "\n",
    "For example, as shown above, from some point of the two dimensional plane where the tail of the vector is placed:  \n",
    "1. Follow the instructions of the red $\\mathbf{v}$ vector to reach a new point in the plane, at the position where the head of the vector is. \n",
    "2. From the head of vector $\\mathbf{v}$, follow the directions stored by vector $\\mathbf{w}$, to reach another point in plane. \n",
    "3. The sum of the two vectors is the vector whose tail is the tail of the first vector, and whose head is the head of the second vector.\n",
    "\n",
    "Again, we notice that the order in which the instructions from the two vectors are followed doesn't matter. The process continues in a similar manner when more vectors are added. Not only that, but it works the same in higher dimensions even if this is difficult to visualize when the dimension is larger than 2 or 3. This is typically the case in ML when representing data points as high-dimensional vectors with a large number of features (components).\n"
   ]
  },
  {
   "cell_type": "markdown",
   "id": "14",
   "metadata": {},
   "source": [
    "## <a name=\"3\">3. Scalar Multiplication</a>\n",
    "(<a href=\"#0\">Go to top</a>)\n",
    "\n",
    "Scalar multiplication can be thought of as a special case of vector addition, adding the same vector to itself multiple times. Let's see how scalar multiplication works for the vector $\\mathbf{v}=[1,2]$.\n"
   ]
  },
  {
   "cell_type": "code",
   "execution_count": null,
   "id": "15",
   "metadata": {
    "tags": []
   },
   "outputs": [],
   "source": [
    "# Define the vector\n",
    "v = np.array([1, 2])\n",
    "print(\"Vector:\", v)"
   ]
  },
  {
   "cell_type": "markdown",
   "id": "16",
   "metadata": {},
   "source": [
    "Compute and plot \n",
    "* $-\\mathbf{v}$\n",
    "* $2\\mathbf{v}$ \n",
    "* $0.5\\mathbf{v}$. \n",
    "\n",
    "First, algebraically,"
   ]
  },
  {
   "cell_type": "code",
   "execution_count": null,
   "id": "17",
   "metadata": {
    "tags": []
   },
   "outputs": [],
   "source": [
    "# Scalar Multiplication\n",
    "print(f\"v = {v}\\n\\n-v = {-v}\\n2v = {2*v}\\n0.5v = {0.5*v}\")"
   ]
  },
  {
   "cell_type": "markdown",
   "id": "18",
   "metadata": {},
   "source": [
    "Indeed, both components of our two-dimensional vector are scaled accordingly, stretch or shrink, as also shown by the plots below."
   ]
  },
  {
   "cell_type": "code",
   "execution_count": null,
   "id": "19",
   "metadata": {
    "tags": []
   },
   "outputs": [],
   "source": [
    "# Plot Scalar Multiplication\n",
    "plt.figure(figsize=(18, 6))\n",
    "v_min, v_max = -3,4\n",
    "plt.subplot(1, 3, 1)\n",
    "plot_v(\n",
    "    [oo, oo, oo, oo], [v, v * (-1)], [\"tab:red\", \"tab:green\"], [\"$v$\", \"$-v$\"], v_min, v_max, 0.08\n",
    ")\n",
    "plt.subplot(1, 3, 2)\n",
    "plot_v(\n",
    "    [oo, oo, oo, oo], [v, v * 2], [\"tab:red\", \"tab:green\"], [\"$v$\", \"$2v$\"], v_min, v_max, 0.08\n",
    ")\n",
    "plt.subplot(1, 3, 3)\n",
    "plot_v(\n",
    "    [oo, oo, oo, oo],\n",
    "    [v, v * (0.5)],\n",
    "    [\"tab:red\", \"tab:green\"],\n",
    "    [\"$v$\", \"$0.5v$\"],\n",
    "    v_min,\n",
    "    v_max,\n",
    "    0.08\n",
    ")\n",
    "plt.show()\n",
    "plt.close()"
   ]
  },
  {
   "cell_type": "markdown",
   "id": "20",
   "metadata": {},
   "source": [
    "Notice that scalar multiplication basically stretches, or contracts, the vector by a constant factor. As a result, it produces a vector in the same or opposite direction of the original vector but of a different length."
   ]
  },
  {
   "cell_type": "markdown",
   "id": "21",
   "metadata": {},
   "source": [
    "### Exercise 1\n",
    "\n",
    "<div style=\"align: left; border: 4px solid cornflowerblue; text-align: left; margin: auto; padding-left: 20px; padding-right: 20px; width: 65%\">\n",
    "        <img style=\"float: left; max-width: 80%; max-height:80%; margin: 5px;\" src=\"../../images/MLU_challenge.png\" alt=\"MLU challenge\" width=12% height=12%/>\n",
    "    <span style=\"padding: 20px; align: left;\">\n",
    "        <p><b>Try it yourself!</b></p>\n",
    "        <p><b>Exercise 1.</b> It is now your turn. Write code to answer the following questions.</p>\n",
    "        <ul>\n",
    "            <li>Add vector $\\mathbf{v}_1=[1, 2, 3, 4]$ to three times the vector $\\mathbf{v}_2=[3, -2, 0, 1]$ algebraically, and print the result.</li>\n",
    "            <li>Visualize and plot the vectors $\\mathbf{v}_1=[1, 0]$,  $\\mathbf{v}_2=[0, 1]$, and the combination  $\\mathbf{v}_1 - 2\\cdot \\mathbf{v}_2$.</li>\n",
    "        </ul>\n",
    "    </span>\n",
    "</div>"
   ]
  },
  {
   "cell_type": "code",
   "execution_count": null,
   "id": "22",
   "metadata": {
    "tags": []
   },
   "outputs": [],
   "source": [
    "###### YOUR CODE HERE ######\n",
    "\n",
    "\n",
    "\n",
    "\n",
    "\n",
    "\n",
    "###### END OF CODE ######"
   ]
  },
  {
   "cell_type": "markdown",
   "id": "23",
   "metadata": {},
   "source": [
    "<div style=\"align: left; border: 4px solid lightcoral; text-align: left; margin: auto; padding-left: 20px; padding-right: 20px; width: 65%\">\n",
    "        <img style=\"float: left; max-width: 100%; max-height:100%; margin: 15px;\" src=\"../../images/MLU_question.png\" alt=\"MLU solution\" width=12% height=12%/>\n",
    "    <span style=\"padding: 20px; align: left;\">\n",
    "        <p><b>Challenge Help</b></p>\n",
    "        <p>Use the code above for vector addition and multiplication and adapt it to the specific combinations asked in the first question. For the second question, reuse the plot function shown above.</p>\n",
    "        <p>If you're stuck, remove the <code>#</code> before the <code>load</code> instruction in the next code cell to display sample solutions.</p>\n",
    "    </span>\n",
    "</div>"
   ]
  },
  {
   "cell_type": "code",
   "execution_count": null,
   "id": "24",
   "metadata": {
    "tags": []
   },
   "outputs": [],
   "source": [
    "# %load solutions/lab11_ex1_solutions.txt"
   ]
  },
  {
   "cell_type": "markdown",
   "id": "25",
   "metadata": {},
   "source": [
    "## <a name=\"4\">4. Vector averages</a>\n",
    "(<a href=\"#0\">Go to top</a>)\n",
    "\n",
    "\n",
    "Now that we know how to add vectors and multiply with scalars, we can use this to perform useful operations.\n",
    "\n",
    "For example, we want to find the average of a set of two-dimensional vectors. This involves adding all the corresponding components (x and y) of the vectors together and then dividing by the total number of vectors.\n",
    "\n",
    "Let's create 3 two-dimensional vectors and assemble an array with the 3 of them for easier manipulation. "
   ]
  },
  {
   "cell_type": "code",
   "execution_count": null,
   "id": "26",
   "metadata": {
    "tags": []
   },
   "outputs": [],
   "source": [
    "v1 = np.array([0, 0])\n",
    "v2 = np.array([3, 4])\n",
    "v3 = np.array([5, 1])\n",
    "\n",
    "vectors = np.array([v1, v2, v3])\n",
    "vectors"
   ]
  },
  {
   "cell_type": "markdown",
   "id": "27",
   "metadata": {},
   "source": [
    "We can calculate their average by hand by adding their x and y components separately and dividing over the number of vectors. "
   ]
  },
  {
   "cell_type": "code",
   "execution_count": null,
   "id": "28",
   "metadata": {
    "tags": []
   },
   "outputs": [],
   "source": [
    "num_vectors = len(vectors)\n",
    "\n",
    "sum_x = 0\n",
    "sum_y = 0\n",
    "\n",
    "for vector in vectors:\n",
    "    sum_x += vector[0]\n",
    "    sum_y += vector[1]\n",
    "\n",
    "average_x = sum_x / num_vectors\n",
    "average_y = sum_y / num_vectors\n",
    "\n",
    "average_vector = np.array([average_x, average_y])\n",
    "print(f\"Average vector: {average_vector}\")"
   ]
  },
  {
   "cell_type": "markdown",
   "id": "29",
   "metadata": {},
   "source": [
    "<div style=\"align: left; border: 4px solid green; text-align: left; margin: auto; padding-left: 20px; padding-right: 20px; width: 65%\">\n",
    "        <img style=\"float: left; max-width: 80%; max-height:80%; margin: 5px;\" src=\"../../images/MLU_question.png\" alt=\"MLU question\" width=12% height=12%/>\n",
    "    <span style=\"padding: 20px; align: left;\">\n",
    "        <p><b>Here's a tip!</b></p>\n",
    "        <p>For vector operations it is more efficient to use NumPy's built-in functions, in this case <code>np.mean()</code>.<br/>To compute the average of the components in each direction (x and y) we pass the argument <code>axis=0</code> to the <code>np.mean()</code> function.</p>\n",
    "    </span>\n",
    "</div>"
   ]
  },
  {
   "cell_type": "code",
   "execution_count": null,
   "id": "30",
   "metadata": {
    "tags": []
   },
   "outputs": [],
   "source": [
    "average_vector_builtin = np.mean(vectors, axis=0)\n",
    "\n",
    "print(f\"Average vector: {average_vector_builtin}\")"
   ]
  },
  {
   "cell_type": "markdown",
   "id": "31",
   "metadata": {},
   "source": [
    "Averages of vectors are even more meaningfull when examined geometrically. The barycenter, also known as the [centroid](https://en.wikipedia.org/wiki/Centroid), is the geometric center of the polygon defined by joining the heads of all vectors. For a set of points, the barycenter is the average of their coordinates."
   ]
  },
  {
   "cell_type": "code",
   "execution_count": null,
   "id": "32",
   "metadata": {
    "tags": []
   },
   "outputs": [],
   "source": [
    "def plot_average_vector(vectors, average_vector, include_legend=False):\n",
    "    plt.figure(figsize=(4,4))\n",
    "    plt.scatter(vectors[:,0], vectors[:,1], color='blue', label='vectors')\n",
    "    plt.scatter(average_vector[0], average_vector[1], color='red', label='average vector')\n",
    "    plt.xlabel(\"Component x\")\n",
    "    plt.ylabel(\"Component y\")\n",
    "    if include_legend: plt.legend()\n",
    "    #plt.tight_layout()\n",
    "    plt.show()\n",
    "    \n",
    "plot_average_vector(vectors, average_vector, include_legend=True)"
   ]
  },
  {
   "cell_type": "markdown",
   "id": "33",
   "metadata": {},
   "source": [
    "### Exercise 2\n",
    "\n",
    "<div style=\"align: left; border: 4px solid cornflowerblue; text-align: left; margin: auto; padding-left: 20px; padding-right: 20px; width: 65%\">\n",
    "        <img style=\"float: left; max-width: 80%; max-height:80%; margin: 5px;\" src=\"../../images/MLU_challenge.png\" alt=\"MLU challenge\" width=12% height=12%/>\n",
    "    <span style=\"padding: 20px; align: left;\">\n",
    "        <p><b>Try it yourself!</b></p>\n",
    "        <p><b>Exercise 2.</b> Create an array made of 10 random vectors, each of dimension 2. Calculate the average vector, and plot it along with the set of 10 vectors.</p>\n",
    "    </span>\n",
    "</div>"
   ]
  },
  {
   "cell_type": "code",
   "execution_count": null,
   "id": "34",
   "metadata": {},
   "outputs": [],
   "source": [
    "###### YOUR CODE HERE ######\n",
    "\n",
    "\n",
    "\n",
    "\n",
    "\n",
    "\n",
    "###### END OF CODE ######"
   ]
  },
  {
   "cell_type": "markdown",
   "id": "35",
   "metadata": {},
   "source": [
    "<div style=\"align: left; border: 4px solid lightcoral; text-align: left; margin: auto; padding-left: 20px; padding-right: 20px; width: 65%\">\n",
    "        <img style=\"float: left; max-width: 100%; max-height:100%; margin: 15px;\" src=\"../../images/MLU_question.png\" alt=\"MLU solution\" width=12% height=12%/>\n",
    "    <span style=\"padding: 20px; align: left;\">\n",
    "        <p><b>Challenge Help</b></p>\n",
    "        <p>To generate 10 random vectors easily, you can use the function <code>np.random.rand</code> that creates and array of a given shape. The first input to <code>np.random.rand</code> indicates the number of elements to generate, the second input the dimension of each element.</p>\n",
    "        <p>You can use the function above to plot your vectors.</p> \n",
    "        <p>You might rerun your code several times to observe different random vectors being generated.</p> \n",
    "        <p>If you're stuck, remove the <code>#</code> before the <code>load</code> instruction in the next code cell to display sample solutions.</p>\n",
    "    </span>\n",
    "</div>"
   ]
  },
  {
   "cell_type": "code",
   "execution_count": null,
   "id": "36",
   "metadata": {
    "tags": []
   },
   "outputs": [],
   "source": [
    "# %load solutions/lab11_ex2_solutions.txt"
   ]
  },
  {
   "cell_type": "markdown",
   "id": "37",
   "metadata": {
    "tags": []
   },
   "source": [
    "<div style=\"display: flex; align-items: center; justify-content: left; background-color:#330066; width:99%;\"> \n",
    "        <img style=\"float: left; max-width: 100%; max-height:100%; margin: 15px;\" src=\"../../images/MLU_robot.png\" alt=\"MLU robot\" width=\"100\" height=\"100\"/>\n",
    "    <span style=\"color: white; padding-left: 10px; align: left; margin: 15px;\">\n",
    "        <h3>Congratulations!</h3>\n",
    "        You have completed Lab 1.1: Vector operations of Lecture 1: Basic linear algebra of MLU Mathematical Fundamentals of Machine Learning.\n",
    "        <br/>\n",
    "    </span>\n",
    "</div>"
   ]
  }
 ],
 "metadata": {
  "kernelspec": {
   "display_name": "conda_python3",
   "language": "python",
   "name": "conda_python3"
  },
  "language_info": {
   "codemirror_mode": {
    "name": "ipython",
    "version": 3
   },
   "file_extension": ".py",
   "mimetype": "text/x-python",
   "name": "python",
   "nbconvert_exporter": "python",
   "pygments_lexer": "ipython3",
   "version": "3.10.15"
  }
 },
 "nbformat": 4,
 "nbformat_minor": 5
}
