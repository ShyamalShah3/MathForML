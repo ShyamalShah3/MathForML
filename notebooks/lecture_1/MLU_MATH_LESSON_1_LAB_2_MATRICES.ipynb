{
 "cells": [
  {
   "cell_type": "markdown",
   "id": "0",
   "metadata": {},
   "source": [
    "<div style=\"background-image: linear-gradient(145deg, rgba(35, 47, 62, 1) 0%, rgba(0, 49, 129, 1) 40%, rgba(32, 116, 213, 1) 60%, rgba(244, 110, 197, 1) 85%, rgba(255, 173, 151, 1) 100%); padding: 1rem 2rem; width: 95%\"><img style=\"width: 60%;\" src=\"../../images/MLU_logo.png\"></div>\n",
    "\n",
    "# <a name=\"0\">MLU Mathematical Fundamentals for Machine Learning</a>\n",
    "# <a name=\"0\">Lecture 1: Basic linear algebra</a>\n",
    "## <a name=\"0\">Lab 1.2: Matrix operations</a>\n",
    "\n",
    " 1. <a href=\"#1\">Matrices as NumPy arrays</a> \n",
    " 2. <a href=\"#2\">Matrix operations</a> \n",
    " 3. <a href=\"#3\">Practical Exercise: E-Commerce Sales Analysis with Multiple Countries</a> \n",
    "\n",
    "In linear algebra, a matrix is a rectangular array of numbers, symbols, or expressions arranged in rows and columns. Matrices are a fundamental concept used to manipulate data in a compact and organized form, as well as to represent linear transformations and systems of linear equations.\n",
    "\n",
    "Matrices are typically denoted by uppercase letters, such as $A$. The dimensions of a matrix are specified by the number of rows and columns it contains. For example, a matrix with 3 rows and 4 columns is called a 3x4 matrix. The individual entries or elements of the matrix are represented by lowercase letters with subscripts indicating their row and column positions, for instance $a_{23}$.\n",
    "\n",
    "Matrices are used in various applications, including:\n",
    "\n",
    "* **Linear systems of equations:** Matrices provide a compact way to represent and solve systems of linear equations. This is also relevant to represent neural network architectures.\n",
    "* **Transformations:** Matrices can represent linear transformations, such as rotations, reflections, and scaling, in geometric spaces.\n",
    "* **Data analysis:** Matrices are essential in data analysis and machine learning, where they are used to represent and manipulate large datasets.\n",
    "\n",
    "Matrix operations, such as addition, multiplication, and inverses, are defined and play a crucial role in linear algebra and its applications, including Machine Learning.\n",
    "\n",
    "From a coding perspective, we will continue using [NumPy](https://numpy.org/) arrays to represent matrices."
   ]
  },
  {
   "cell_type": "code",
   "execution_count": null,
   "id": "1",
   "metadata": {},
   "outputs": [],
   "source": [
    "# Upgrade libraries\n",
    "!pip install -q --upgrade pip\n",
    "!pip install -q --upgrade scikit-learn"
   ]
  },
  {
   "cell_type": "code",
   "execution_count": null,
   "id": "2",
   "metadata": {
    "tags": []
   },
   "outputs": [],
   "source": [
    "%%capture\n",
    "# Import libraries\n",
    "import numpy as np\n",
    "import matplotlib.pyplot as plt\n",
    "from IPython.display import Markdown, display\n",
    "\n",
    "# Set a seed for reproducibility\n",
    "np.random.seed(99)\n",
    "\n",
    "%matplotlib inline"
   ]
  },
  {
   "cell_type": "markdown",
   "id": "3",
   "metadata": {},
   "source": [
    "## <a name=\"1\">1. Matrices as NumPy arrays</a>\n",
    "(<a href=\"#0\">Go to top</a>)\n",
    "\n",
    "A NumPy array is a multidimensional object that can be used to represent linear algebra matries.\n",
    "\n",
    "Let's create a two-dimensional `Numpy` matrix, with 3 rows and 2 columns. To do so, we pass 3 lists of 2 numbers each to initialize a `np.array`."
   ]
  },
  {
   "cell_type": "code",
   "execution_count": null,
   "id": "4",
   "metadata": {
    "tags": []
   },
   "outputs": [],
   "source": [
    "# Matrix\n",
    "A = np.array([[1, 2], [3, 4], [5, 6]])\n",
    "\n",
    "print(f\"Matrix:\\n{A}\")"
   ]
  },
  {
   "cell_type": "code",
   "execution_count": null,
   "id": "5",
   "metadata": {
    "tags": []
   },
   "outputs": [],
   "source": [
    "print(f\"Matrix\\n{A}\\nhas {A.shape[0]*A.shape[1]} elements.\\n\")\n",
    "print(f\"It's shape as NumPy array is {A.shape}.\")\n",
    "print(f\"The number of indices is {A.ndim}.\")"
   ]
  },
  {
   "cell_type": "markdown",
   "id": "6",
   "metadata": {},
   "source": [
    "The fact that a matrix has `ndim=2` indicates that each of the elements of a matrix can be univocally specified by two indices, i.e. $i$ and $j$ fully identify $a_{ij}$."
   ]
  },
  {
   "cell_type": "markdown",
   "id": "7",
   "metadata": {},
   "source": [
    "A matrix transpose ($A^T$) is an operation that flips a matrix over its diagonal. This means that the row and column indices of each element are swapped, effectively converting rows into columns and columns into rows."
   ]
  },
  {
   "cell_type": "code",
   "execution_count": null,
   "id": "8",
   "metadata": {
    "tags": []
   },
   "outputs": [],
   "source": [
    "print(\"Original Matrix:\\n\", A)\n",
    "print()\n",
    "print(\"Matrix Transpose:\\n\", np.transpose(A))"
   ]
  },
  {
   "cell_type": "markdown",
   "id": "9",
   "metadata": {},
   "source": [
    "Reshaping is a useful `NumPy` feature that allows you to change the shape of an array without altering its data. You can use the `reshape()` method to specify the new shape:"
   ]
  },
  {
   "cell_type": "code",
   "execution_count": null,
   "id": "10",
   "metadata": {
    "tags": []
   },
   "outputs": [],
   "source": [
    "# Reshape A to a 2x3 matrix\n",
    "print(f\"Reshape A to 2x3\\n{A.reshape(2, 3)}\")\n",
    "print()\n",
    "\n",
    "# Reshape A to a 6x1 matrix\n",
    "print(f\"Reshape A to 6x1\\n{A.reshape(6, 1)}\")"
   ]
  },
  {
   "cell_type": "markdown",
   "id": "11",
   "metadata": {},
   "source": [
    "## <a name=\"2\">2. Matrix operations</a>\n",
    "(<a href=\"#0\">Go to top</a>)\n",
    "\n",
    "### Matrix addition\n",
    "You can add 2 matrices, as long as they have the same shape:"
   ]
  },
  {
   "cell_type": "code",
   "execution_count": null,
   "id": "12",
   "metadata": {
    "tags": []
   },
   "outputs": [],
   "source": [
    "# Create two matrices with the same shape\n",
    "A = np.array([[1, 2], [3, 4]])\n",
    "# This creates a matrix filled with \"ones\" of the shape specified as input\n",
    "B = np.ones((2, 2)) \n",
    "\n",
    "# Add the matrices\n",
    "C = A + B\n",
    "\n",
    "print(\"Matrix A:\\n\", A, \"\\n\")\n",
    "print(\"Matrix B:\\n\", B, \"\\n\")\n",
    "print(\"Matrix C = A + B:\\n\", C)"
   ]
  },
  {
   "cell_type": "markdown",
   "id": "13",
   "metadata": {},
   "source": [
    "### Scalar multiplication \n",
    "\n",
    "You can multiply a matrix with a scalar, i.e. a real number. "
   ]
  },
  {
   "cell_type": "code",
   "execution_count": null,
   "id": "14",
   "metadata": {
    "tags": []
   },
   "outputs": [],
   "source": [
    "print(\"Matrix 2A:\\n\", 2*A)"
   ]
  },
  {
   "cell_type": "code",
   "execution_count": null,
   "id": "15",
   "metadata": {
    "tags": []
   },
   "outputs": [],
   "source": [
    "print(\"Matrix addition & scalar multiplication:\\nA + 0.5 B\\n\", A + 0.5 * B)"
   ]
  },
  {
   "cell_type": "markdown",
   "id": "16",
   "metadata": {},
   "source": [
    "### Matrix multiplication\n",
    "Matrix multiplication is a fundamental operation in linear algebra. When multiplying two matrices, the dimensions must align in a specific way:\n",
    "\n",
    "* Matrix $A$ has dimensions $m \\times n$ (i.e., $m$ rows and $n$ columns)\n",
    "* Matrix $B$ has dimensions $n \\times p$ (i.e., $n$ rows and $p$ columns)\n",
    "* If the number of columns of matrix $A$ coincides with the number of rows of matrix $B$, they can be multiplied together.\n",
    "* The product matrix $AB$ has dimensions: $m \\times p$ (i.e., $m$ rows and $p$ columns)\n",
    "$$(m \\times n) \\cdot (n \\times p) \\rightarrow (m \\times p)$$"
   ]
  },
  {
   "cell_type": "code",
   "execution_count": null,
   "id": "17",
   "metadata": {
    "tags": []
   },
   "outputs": [],
   "source": [
    "# Let's define two matrices\n",
    "\n",
    "A = np.array([[1, 2, 3], [4, 5, 6]])\n",
    "B = np.array([[7, 8], [9, 10], [11, 12]])\n",
    "\n",
    "print(\"Matrix A:\\n\", A, \"\\nDimensions of A:\", A.shape, \"\\n\")\n",
    "print(\"Matrix B:\\n\", B, \"\\nDimensions of B:\", B.shape, \"\\n\")"
   ]
  },
  {
   "cell_type": "markdown",
   "id": "18",
   "metadata": {},
   "source": [
    "**Several ways of computing the product of two matrices with NumPy syntax**\n",
    "\n",
    "1. Using the `np.dot()` function:"
   ]
  },
  {
   "cell_type": "code",
   "execution_count": null,
   "id": "19",
   "metadata": {
    "tags": []
   },
   "outputs": [],
   "source": [
    "C = np.dot(A, B)\n",
    "print(C)"
   ]
  },
  {
   "cell_type": "markdown",
   "id": "20",
   "metadata": {},
   "source": [
    "An equivalent way to use the `dot` function with a slightly different syntax is:"
   ]
  },
  {
   "cell_type": "code",
   "execution_count": null,
   "id": "21",
   "metadata": {
    "tags": []
   },
   "outputs": [],
   "source": [
    "C = A.dot(B)\n",
    "print(C)"
   ]
  },
  {
   "cell_type": "markdown",
   "id": "22",
   "metadata": {},
   "source": [
    "2. Using the `@` operator, a dedicated [infix operator](https://en.wikipedia.org/wiki/Infix_notation) for matrix multiplication:"
   ]
  },
  {
   "cell_type": "code",
   "execution_count": null,
   "id": "23",
   "metadata": {
    "tags": []
   },
   "outputs": [],
   "source": [
    "C = A @ B\n",
    "print(C)"
   ]
  },
  {
   "cell_type": "markdown",
   "id": "24",
   "metadata": {},
   "source": [
    "3. Using the `np.matmul()` function:"
   ]
  },
  {
   "cell_type": "code",
   "execution_count": null,
   "id": "25",
   "metadata": {
    "tags": []
   },
   "outputs": [],
   "source": [
    "C = np.matmul(A, B)\n",
    "print(C)"
   ]
  },
  {
   "cell_type": "markdown",
   "id": "26",
   "metadata": {},
   "source": [
    "### Exercise 1\n",
    "\n",
    "<div style=\"align: left; border: 4px solid cornflowerblue; text-align: left; margin: auto; padding-left: 20px; padding-right: 20px; width: 65%\">\n",
    "        <img style=\"float: left; max-width: 80%; max-height:80%; margin: 5px;\" src=\"../../images/MLU_challenge.png\" alt=\"MLU challenge\" width=12% height=12%/>\n",
    "    <span style=\"padding: 20px; align: left;\">\n",
    "        <p><b>Exercise 1.</b> Show that the matrix multiplication is not commutative, that is $AB\\neq BA$. Do this by printing the shapes of $A$, $B$, $AB$ and $BA$.</p>\n",
    "    </span>\n",
    "</div>"
   ]
  },
  {
   "cell_type": "code",
   "execution_count": null,
   "id": "27",
   "metadata": {},
   "outputs": [],
   "source": [
    "###### YOUR CODE HERE ######\n",
    "\n",
    "\n",
    "\n",
    "\n",
    "\n",
    "\n",
    "###### END OF CODE ######"
   ]
  },
  {
   "cell_type": "markdown",
   "id": "28",
   "metadata": {},
   "source": [
    "<div style=\"align: left; border: 4px solid lightcoral; text-align: left; margin: auto; padding-left: 20px; padding-right: 20px; width: 65%\">\n",
    "        <img style=\"float: left; max-width: 100%; max-height:100%; margin: 15px;\" src=\"../../images/MLU_question.png\" alt=\"MLU solution\" width=12% height=12%/>\n",
    "    <span style=\"padding: 20px; align: left;\">\n",
    "        <p><b>Challenge Help</b></p>\n",
    "        <p>Use any of the methods shown above to multiply both matrices in reversed order.</p>\n",
    "        <p>If you're stuck, remove the <code>#</code> before the <code>load</code> instruction in the next code cell to display sample solutions.</p>\n",
    "    </span>\n",
    "</div>"
   ]
  },
  {
   "cell_type": "code",
   "execution_count": null,
   "id": "29",
   "metadata": {
    "tags": []
   },
   "outputs": [],
   "source": [
    "# %load solutions/lab12_ex1_solutions.txt"
   ]
  },
  {
   "cell_type": "markdown",
   "id": "30",
   "metadata": {},
   "source": [
    "### Exercise 2\n",
    "\n",
    "<div style=\"align: left; border: 4px solid cornflowerblue; text-align: left; margin: auto; padding-left: 20px; padding-right: 20px; width: 65%\">\n",
    "        <img style=\"float: left; max-width: 80%; max-height:80%; margin: 5px;\" src=\"../../images/MLU_challenge.png\" alt=\"MLU challenge\" width=12% height=12%/>\n",
    "    <span style=\"padding: 20px; align: left;\">\n",
    "        <p><b>Exercise 2.</b> Consider the vector $[1,2]$. Can you multiply it with matrix $A$? And with matrix $B$? Be careful about the order of the factors.</p>\n",
    "    </span>\n",
    "</div>"
   ]
  },
  {
   "cell_type": "code",
   "execution_count": null,
   "id": "31",
   "metadata": {},
   "outputs": [],
   "source": [
    "###### YOUR CODE HERE ######\n",
    "\n",
    "\n",
    "\n",
    "\n",
    "\n",
    "\n",
    "###### END OF CODE ######"
   ]
  },
  {
   "cell_type": "markdown",
   "id": "32",
   "metadata": {},
   "source": [
    "<div style=\"align: left; border: 4px solid lightcoral; text-align: left; margin: auto; padding-left: 20px; padding-right: 20px; width: 65%\">\n",
    "        <img style=\"float: left; max-width: 100%; max-height:100%; margin: 15px;\" src=\"../../images/MLU_question.png\" alt=\"MLU solution\" width=12% height=12%/>\n",
    "    <span style=\"padding: 20px; align: left;\">\n",
    "        <p><b>Challenge Help</b></p>\n",
    "        <p>Treat the vector as you would any matrix and inspect its dimensions.</p>\n",
    "        <p>If you're stuck, remove the <code>#</code> before the <code>load</code> instruction in the next code cell to display sample solutions.</p>\n",
    "    </span>\n",
    "</div>"
   ]
  },
  {
   "cell_type": "code",
   "execution_count": null,
   "id": "33",
   "metadata": {
    "tags": []
   },
   "outputs": [],
   "source": [
    "# %load solutions/lab12_ex2_solutions.txt"
   ]
  },
  {
   "cell_type": "markdown",
   "id": "34",
   "metadata": {},
   "source": [
    "### Hadamard product"
   ]
  },
  {
   "cell_type": "markdown",
   "id": "35",
   "metadata": {},
   "source": [
    "The Hadamard product, also known as the element-wise product, entrywise product, or Schur product, is a binary operation that takes two matrices of the same dimensions and returns a new matrix of the same dimensions. Each element in the resulting matrix is the product of the corresponding elements from the two input matrices. For instance:"
   ]
  },
  {
   "cell_type": "markdown",
   "id": "36",
   "metadata": {},
   "source": [
    "$$A = \\begin{bmatrix}\n",
    "1 & 2 \\\\\n",
    "3 & 4\n",
    "\\end{bmatrix}\n",
    "$$\n",
    "\n",
    "$$\n",
    "B = \\begin{bmatrix}\n",
    "5 & 6 \\\\\n",
    "7 & 8\n",
    "\\end{bmatrix}\n",
    "$$\n",
    "\n",
    "$$\n",
    "A \\odot B = \\begin{bmatrix}\n",
    "1 \\cdot 5 & 2 \\cdot 6 \\\\\n",
    "3 \\cdot 7 & 4 \\cdot 8\n",
    "\\end{bmatrix} = \\begin{bmatrix}\n",
    "5 & 12 \\\\\n",
    "21 & 32\n",
    "\\end{bmatrix}\n",
    "$$"
   ]
  },
  {
   "cell_type": "markdown",
   "id": "37",
   "metadata": {},
   "source": [
    "In `NumPy`, you can use the `*` operator to compute the Hadamart product. "
   ]
  },
  {
   "cell_type": "code",
   "execution_count": null,
   "id": "38",
   "metadata": {
    "tags": []
   },
   "outputs": [],
   "source": [
    "A = np.array([[1, 2],\n",
    "              [3, 4]])\n",
    "\n",
    "B = np.array([[5, 6],\n",
    "              [7, 8]])\n",
    "\n",
    "# Element-wise multiplication in NumPy\n",
    "C = A * B\n",
    "print(C)"
   ]
  },
  {
   "cell_type": "markdown",
   "id": "39",
   "metadata": {},
   "source": [
    "## Matrix inverse\n",
    "\n",
    "The identity matrix is a square matrix $I$ that plays the role of the identity element in matrix multiplication. It is the analogue of the identity in number sets (e.g. 1). \n",
    "\n",
    "In NumPy, the identity matrix is given by the function `np.identity(n)` for a square matrix of dimensions $n\\times n$."
   ]
  },
  {
   "cell_type": "code",
   "execution_count": null,
   "id": "40",
   "metadata": {
    "tags": []
   },
   "outputs": [],
   "source": [
    "# Identity in 2x2\n",
    "identity_2 = np.identity(2)\n",
    "print(identity_2)"
   ]
  },
  {
   "cell_type": "markdown",
   "id": "41",
   "metadata": {},
   "source": [
    "If we multiply any number by one, we obtain the same number. The same is true with matrices:"
   ]
  },
  {
   "cell_type": "code",
   "execution_count": null,
   "id": "42",
   "metadata": {
    "tags": []
   },
   "outputs": [],
   "source": [
    "M = np.array([[1, 2], [3, 4]])\n",
    "\n",
    "print(\"Original matrix:\\n\", M)\n",
    "print()\n",
    "print(\"Original matrix * identity:\\n\", identity_2 @ M)"
   ]
  },
  {
   "cell_type": "markdown",
   "id": "43",
   "metadata": {},
   "source": [
    "Given a real number, e.g. 2, we can define its **inverse** $x$ as the number such that $x\\cdot2=1$ so that $x=\\frac{1}{2} = 0.5$.\n",
    "\n",
    "We can use the same property in the matrix space, to define a **matrix inverse**.\n",
    "\n",
    "Given a matrix $A$, we define its inverse $A^-1$ as the matrix such that:\n",
    "$$AA^{-1} = A^{-1}A = I$$\n",
    "\n",
    "Notice that the multiplication with the inverse matrix is commutative, unlike the general matrix multiplication of any two matrices.\n",
    "\n",
    "In NumPy, the matrix inverse (if it exists) can be computed via the `np.linalg.inv` function."
   ]
  },
  {
   "cell_type": "code",
   "execution_count": null,
   "id": "44",
   "metadata": {
    "tags": []
   },
   "outputs": [],
   "source": [
    "matrix_inverse = np.linalg.inv(M)\n",
    "\n",
    "print(\"Matrix:\\n\", M)\n",
    "print()\n",
    "print(\"Matrix Inverse:\\n\", matrix_inverse)\n",
    "print()\n",
    "\n",
    "# Here we round up the result to account for numerical error (1E-16) from computing the inverse\n",
    "print(\"Matrix product with its inverse:\\n\", np.around(np.dot(M, matrix_inverse)))"
   ]
  },
  {
   "cell_type": "markdown",
   "id": "45",
   "metadata": {},
   "source": [
    "**Applications of the matrix inverse**\n",
    "\n",
    "An application of matrix inverse is its use to solve systems of linear equations. For example, consider the following system of three equations:\n",
    "\n",
    "$$\n",
    "\\begin{cases}\n",
    "2x_1 + 3x_2 + x_3 = 9 \\\\\n",
    "x_1 + 2x_2 + 3x_3 = 6 \\\\\n",
    "3x_1 + x_2 + 2x_3 = 8\n",
    "\\end{cases}\n",
    "$$\n",
    "\n",
    "This system can be written in matrix form as:\n",
    "\n",
    "$$\n",
    "\\begin{pmatrix}\n",
    "2 & 3 & 1 \\\\\n",
    "1 & 2 & 3 \\\\\n",
    "3 & 1 & 2\n",
    "\\end{pmatrix}\n",
    "\\begin{pmatrix}\n",
    "x_1 \\\\\n",
    "x_2 \\\\\n",
    "x_3\n",
    "\\end{pmatrix}\n",
    "=\n",
    "\\begin{pmatrix}\n",
    "9 \\\\\n",
    "6 \\\\\n",
    "8\n",
    "\\end{pmatrix}\n",
    "$$\n",
    "To make the notation lighter, we rewrite the above equation as $$\\mathbf{Ax} = \\mathbf{b},$$\n",
    "\n",
    "where $\\mathbf{A}$ is the square matrix of the equation coefficients, $\\mathbf{x}$ is the vector of unknowns, and $\\mathbf{b}$ is the vector of constants. If $\\mathbf{A}$ is invertible, we can solve for $\\mathbf{x}$ by multiplying both sides of the equation by the inverse of $\\mathbf{A}$:\n",
    "\n",
    "$\\mathbf{Ax} = \\mathbf{b}$\n",
    "\n",
    "$\\mathbf{A}^{-1}\\mathbf{Ax} = \\mathbf{A}^{-1}\\mathbf{b}$\n",
    "\n",
    "Since $\\mathbf{A}^{-1}\\mathbf{A}$ is the identity matrix $\\mathbf{I}$, the equation simplifies to:\n",
    "\n",
    "$\\mathbf{Ix} = \\mathbf{A}^{-1}\\mathbf{b}$\n",
    "\n",
    "Thus, the solution $\\mathbf{x}$ is given by:\n",
    "\n",
    "$\\mathbf{x} = \\mathbf{A}^{-1}\\mathbf{b}$\n",
    "\n",
    "\n",
    "\n",
    "To solve for $\\mathbf{x}$, we need to find the inverse of $\\mathbf{A}$ and then compute $\\mathbf{A}^{-1}\\mathbf{b}$.\n"
   ]
  },
  {
   "cell_type": "markdown",
   "id": "46",
   "metadata": {},
   "source": [
    "### Exercise 3\n",
    "\n",
    "<div style=\"align: left; border: 4px solid cornflowerblue; text-align: left; margin: auto; padding-left: 20px; padding-right: 20px; width: 65%\">\n",
    "        <img style=\"float: left; max-width: 80%; max-height:80%; margin: 5px;\" src=\"../../images/MLU_challenge.png\" alt=\"MLU challenge\" width=12% height=12%/>\n",
    "    <span style=\"padding: 20px; align: left;\">\n",
    "        <p><b>Exercise 3.</b> Using the approach shown above, find a solution for this set of simultaneous equations: $$\n",
    "\\begin{cases}\n",
    "2x_1 + 3x_2 + x_3 = 9 \\\\\n",
    "x_1 + 2x_2 + 3x_3 = 6 \\\\\n",
    "3x_1 + x_2 + 2x_3 = 8\n",
    "\\end{cases}\n",
    "$$.</p>\n",
    "    </span>\n",
    "</div>"
   ]
  },
  {
   "cell_type": "code",
   "execution_count": null,
   "id": "47",
   "metadata": {
    "tags": []
   },
   "outputs": [],
   "source": [
    "###### YOUR CODE HERE ######\n",
    "\n",
    "\n",
    "\n",
    "\n",
    "\n",
    "###### END OF CODE ######"
   ]
  },
  {
   "cell_type": "markdown",
   "id": "48",
   "metadata": {},
   "source": [
    "<div style=\"align: left; border: 4px solid lightcoral; text-align: left; margin: auto; padding-left: 20px; padding-right: 20px; width: 65%\">\n",
    "        <img style=\"float: left; max-width: 100%; max-height:100%; margin: 15px;\" src=\"../../images/MLU_question.png\" alt=\"MLU solution\" width=12% height=12%/>\n",
    "    <span style=\"padding: 20px; align: left;\">\n",
    "        <p><b>Challenge Help</b></p>\n",
    "        <p>Follow these steps: \n",
    "        <ol><li>Define the coefficient matrix A and the vector b.</li><li>Compute the inverse of A, A_inv.</li><li>Solve for x by multiplying A_inv and b.</li></ol>\n",
    "        </p>\n",
    "        <p>If you're stuck, remove the <code>#</code> before the <code>load</code> instruction in the next code cell to display sample solutions.</p>\n",
    "    </span>\n",
    "</div>"
   ]
  },
  {
   "cell_type": "code",
   "execution_count": null,
   "id": "49",
   "metadata": {
    "tags": []
   },
   "outputs": [],
   "source": [
    "# %load solutions/lab12_ex3_solutions.txt"
   ]
  },
  {
   "cell_type": "markdown",
   "id": "50",
   "metadata": {
    "tags": []
   },
   "source": [
    "## <a name=\"3\">3. Practical Exercise: E-Commerce Sales Analysis with Multiple Countries</a>\n",
    "(<a href=\"#0\">Go to top</a>)\n",
    "\n",
    "**Scenario**\n",
    "\n",
    "You are given sales data for an e-commerce store from two countries (Country A and Country B). The store sells three different products, and you have the sales figures for these products over three months. You need to combine the sales data from both countries and then analyze the combined data to extract useful insights.\n",
    "\n",
    "**Instructions**\n",
    "\n",
    "- Use the NumPy library to perform the operations.\n",
    "- Print out the results of each operation.\n",
    "\n",
    "**Hints**\n",
    "\n",
    "- Use `np.array()` to create matrices and vectors.\n",
    "- Use matrix addition `(+)` to combine sales data.\n",
    "- Use `np.dot()` or `@` for matrix multiplication to calculate revenues.\n",
    "- Use `np.sum()` to calculate totals along specific axes.\n",
    "    * `axis=0`: This refers to the first axis (rows). When using `np.sum()` with `axis=0`, you sum across the rows, which results in a sum for each column. For example, summing sales data across months for each product.\n",
    "    * `axis=1`: This refers to the second axis (columns). When using `np.sum()` with `axis=1`, you sum across the columns, which results in a sum for each row. For example, summing sales data across products for each month.\n",
    "\n",
    "**Data**\n",
    "\n",
    "- `sales_data_A`: A 3x3 matrix where each row represents a month (January, February, March) and each column represents a product (Product A, Product B, Product C). The elements in the matrix represent the number of units sold in Country A.\n",
    "- `sales_data_B`: A 3x3 matrix with the same structure, representing sales data for Country B."
   ]
  },
  {
   "cell_type": "markdown",
   "id": "51",
   "metadata": {
    "tags": []
   },
   "source": [
    "<div style=\"align: left; border: 4px solid cornflowerblue; text-align: left; margin: auto; padding-left: 20px; padding-right: 20px; width: 65%\">\n",
    "        <img style=\"float: left; max-width: 80%; max-height:80%; margin: 5px;\" src=\"../../images/MLU_challenge.png\" alt=\"MLU challenge\" width=12% height=12%/>\n",
    "    <span style=\"padding: 10px; align: left;\">\n",
    "        <p><b>Exercise 4.</b></p>\n",
    "        <p>Read and solve the following tasks described below:\n",
    "        <ul>\n",
    "                <li>Task 1. Sales Data</li>\n",
    "                <li>Task 2. Price Data</li>\n",
    "                <li>Task 3. Analysis</li>\n",
    "        </ul>\n",
    "        </p>\n",
    "    </span>\n",
    "</div>"
   ]
  },
  {
   "cell_type": "markdown",
   "id": "52",
   "metadata": {},
   "source": [
    "**Task 1: Sales Data**\n",
    "\n",
    "1. Create the `sales_data_A` and `sales_data_B` matrices with the following values:\n",
    "\n",
    "**Country A:**\n",
    "\n",
    "$\\begin{bmatrix} 150 & 200 & 250 \\\\\\ 100 & 300 & 400 \\\\\\ 50 & 150 & 100 \\end{bmatrix}$\n",
    "\n",
    "**Country B:**\n",
    "\n",
    "$\\begin{bmatrix} 100 & 150 & 200 \\\\\\ 80 & 250 & 300 \\\\\\ 70 & 100 & 150 \\end{bmatrix}$\n",
    "\n",
    "2. Combine the sales data from both countries into a single matrix `sales_data`.\n",
    "3. Calculate the total sales for each month.\n",
    "4. Calculate the total sales for each product.\n"
   ]
  },
  {
   "cell_type": "code",
   "execution_count": null,
   "id": "53",
   "metadata": {},
   "outputs": [],
   "source": [
    "###### YOUR CODE HERE ######\n",
    "\n",
    "\n",
    "\n",
    "\n",
    "\n",
    "###### END OF CODE ######"
   ]
  },
  {
   "cell_type": "markdown",
   "id": "54",
   "metadata": {},
   "source": [
    "**Task 2: Price Data**\n",
    "\n",
    "1. Create a vector `product_prices` representing the price of each product. These are the prices per product: \n",
    "* Product A: $\\$20$, \n",
    "* Product B: $\\$35$, \n",
    "* Product C: $\\$50$.\n",
    "2. Calculate the total revenue for each month using matrix-vector multiplication."
   ]
  },
  {
   "cell_type": "code",
   "execution_count": null,
   "id": "55",
   "metadata": {},
   "outputs": [],
   "source": [
    "###### YOUR CODE HERE ######\n",
    "\n",
    "\n",
    "\n",
    "\n",
    "\n",
    "###### END OF CODE ######"
   ]
  },
  {
   "cell_type": "markdown",
   "id": "56",
   "metadata": {},
   "source": [
    "**Task 3: Analysis**\n",
    "\n",
    "1. Determine the month with the highest total sales.\n",
    "2. Determine the product that generated the most revenue over the three months.\n",
    "\n",
    "**Hint:** you can use `np.argmax` which returns the index of the maximum value along a specified axis.\n"
   ]
  },
  {
   "cell_type": "code",
   "execution_count": null,
   "id": "57",
   "metadata": {},
   "outputs": [],
   "source": [
    "###### YOUR CODE HERE ######\n",
    "\n",
    "\n",
    "\n",
    "\n",
    "\n",
    "###### END OF CODE ######"
   ]
  },
  {
   "cell_type": "markdown",
   "id": "58",
   "metadata": {},
   "source": [
    "<div style=\"align: left; border: 4px solid lightcoral; text-align: left; margin: auto; padding-left: 20px; padding-right: 20px; width: 65%\">\n",
    "        <img style=\"float: left; max-width: 100%; max-height:100%; margin: 15px;\" src=\"../../images/MLU_question.png\" alt=\"MLU solution\" width=12% height=12%/>\n",
    "    <span style=\"padding: 20px; align: left;\">\n",
    "        <p><b>Challenge Help</b></p>\n",
    "        <p>If you're stuck, remove the <code>#</code> before the <code>load</code> instruction in the next code cell to display sample solutions.</p>\n",
    "    </span>\n",
    "</div>"
   ]
  },
  {
   "cell_type": "code",
   "execution_count": null,
   "id": "59",
   "metadata": {
    "tags": []
   },
   "outputs": [],
   "source": [
    "# %load solutions/lab12_ex4_solutions.txt"
   ]
  },
  {
   "cell_type": "markdown",
   "id": "60",
   "metadata": {},
   "source": [
    "<div style=\"display: flex; align-items: center; justify-content: left; background-color:#330066; width:99%;\"> \n",
    "        <img style=\"float: left; max-width: 100%; max-height:100%; margin: 15px;\" src=\"../../images/MLU_robot.png\" alt=\"MLU robot\" width=\"100\" height=\"100\"/>\n",
    "    <span style=\"color: white; padding-left: 10px; align: left; margin: 15px;\">\n",
    "        <h3>Congratulations!</h3>\n",
    "        You have completed Lab 1.2: Matrix operations of Lecture 1: Basic linear algebra of MLU Mathematical Fundamentals of Machine Learning.\n",
    "        <br/>\n",
    "    </span>\n",
    "</div>"
   ]
  }
 ],
 "metadata": {
  "kernelspec": {
   "display_name": "conda_python3",
   "language": "python",
   "name": "conda_python3"
  },
  "language_info": {
   "codemirror_mode": {
    "name": "ipython",
    "version": 3
   },
   "file_extension": ".py",
   "mimetype": "text/x-python",
   "name": "python",
   "nbconvert_exporter": "python",
   "pygments_lexer": "ipython3",
   "version": "3.10.15"
  }
 },
 "nbformat": 4,
 "nbformat_minor": 5
}
